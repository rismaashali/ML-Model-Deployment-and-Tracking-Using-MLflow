{
  "nbformat": 4,
  "nbformat_minor": 0,
  "metadata": {
    "colab": {
      "provenance": [],
      "collapsed_sections": [
        "PQZxxxB33Spc",
        "d_wnTKehtwKb",
        "CTW4OHMTubwc",
        "lja2py3Rvfl5",
        "ueM50U9a91rC"
      ]
    },
    "kernelspec": {
      "name": "python3",
      "display_name": "Python 3"
    },
    "language_info": {
      "name": "python"
    }
  },
  "cells": [
    {
      "cell_type": "markdown",
      "source": [
        "# Use Case Summary\n",
        "- Objective Statement:\n",
        "  - To get insight how much sales based on tv advertising\n",
        "  - To get insight how much money is spent on advertising on TV\n",
        "  - To gain insight into the relationship between sales and TV marketing\n",
        "  - To predict sales using Linear Regression based on TV advertising\n",
        "  - To get insight about model deployment using MLflow\n",
        "\n",
        "- Challenges:\n",
        "  - There are no other variables as a comparison\n",
        "\n",
        "- Methodology / Analytic Technique:\n",
        "  - Descriptive Analysis\n",
        "  - Graph Analysis\n",
        "  - Modeling using Linear Regression\n",
        "  - Model Deployment using MLflow\n",
        "\n",
        "- Business Benefit:\n",
        "  - Knowing how much sales from tv advertising\n",
        "  - Knowing how sales predict results by placing ads on TV\n",
        "  - Helping business team optimize spent advertising costs\n",
        "\n",
        "- Expected Outcome:\n",
        "  - Know how much sales based on TV advertising\n",
        "  - Know how much money is spent on advertising on TV\n",
        "  - Know about relationship between sales and TV marketing\n",
        "  - Know the results of sales prediction using Linear Regression based on TV advertising\n",
        "  - Know about creating model deployments using MLflow and the results\n",
        "\n",
        "# Business Understanding\n",
        "- Tv Marketing is the method of demonstrating features of products and providing their information on television to attract viewers and encourage them to buy the shown products is called trade through television marketing.\n",
        "- This case has some business question using the data:\n",
        " - How much company spent money on TV advertising?\n",
        " - How much money is spent on advertising on TV?\n",
        " - How about relationship between sales and TV marketing?\n",
        " - How about the results of sales prediction based using Linear Regression on TV advertising?\n",
        " - How to create a model deployment using MLflow?\n",
        "\n",
        "# Data Understanding\n",
        "\n",
        "- Data of TV Marketing\n",
        "- This data have 2 columns and 200 rows\n",
        "- Source Code : https://www.kaggle.com/datasets/leiadis/tvmarketing\n",
        "- Data Dictionary :\n",
        "  - TV : money spent on advertising via TV\n",
        "  - Sales : number of sales\n",
        "\n",
        "# Data Preparation\n",
        "Code Used:\n",
        "- Python Version: 3.7.15\n",
        "- Packages: Pandas, Numpy, Matplotlib, Seaborn, MLFlow, sklearn and Warnings\n",
        "\n"
      ],
      "metadata": {
        "id": "PQZxxxB33Spc"
      }
    },
    {
      "cell_type": "markdown",
      "source": [
        "# Data Profiling"
      ],
      "metadata": {
        "id": "jsCBWFFMqTBD"
      }
    },
    {
      "cell_type": "markdown",
      "source": [
        "First of all, we will import package which will be used in processing this data, especially with Linear Regression modeling and model deployment using mlflow"
      ],
      "metadata": {
        "id": "Bvfok2I4rUKL"
      }
    },
    {
      "cell_type": "code",
      "source": [
        "#pip install mlflow"
      ],
      "metadata": {
        "id": "yHw8_i9JBlQo"
      },
      "execution_count": null,
      "outputs": []
    },
    {
      "cell_type": "code",
      "source": [
        "#pip install mlflow[extras]"
      ],
      "metadata": {
        "id": "tsB1r0qsBpQw"
      },
      "execution_count": null,
      "outputs": []
    },
    {
      "cell_type": "code",
      "execution_count": null,
      "metadata": {
        "id": "12IZxb73qEKW"
      },
      "outputs": [],
      "source": [
        "import pandas as pd\n",
        "import numpy as np\n",
        "import matplotlib.pyplot as plt\n",
        "import seaborn as sns\n",
        "\n",
        "from sklearn.linear_model import LinearRegression\n",
        "from sklearn.model_selection import train_test_split\n",
        "from sklearn.preprocessing import StandardScaler\n",
        "from sklearn.preprocessing import MinMaxScaler\n",
        "from sklearn.metrics import mean_absolute_error\n",
        "from sklearn.metrics import mean_absolute_percentage_error\n",
        "from sklearn.metrics import r2_score\n",
        "from sklearn.metrics import mean_squared_error\n",
        "\n",
        "import warnings\n",
        "warnings.filterwarnings('ignore')"
      ]
    },
    {
      "cell_type": "markdown",
      "source": [
        "### Import dataset"
      ],
      "metadata": {
        "id": "d40YZ_W0qRfo"
      }
    },
    {
      "cell_type": "markdown",
      "source": [
        "The dataset is uploaded from the computer for use"
      ],
      "metadata": {
        "id": "GgJTJPE-rqkp"
      }
    },
    {
      "cell_type": "code",
      "source": [
        "from google.colab import files\n",
        "uploaded = files.upload()"
      ],
      "metadata": {
        "colab": {
          "base_uri": "https://localhost:8080/",
          "height": 73
        },
        "id": "79YkA7NnqfpX",
        "outputId": "f742df9b-7fad-477d-ebdd-fe75f63d7a5a"
      },
      "execution_count": null,
      "outputs": [
        {
          "output_type": "display_data",
          "data": {
            "text/plain": [
              "<IPython.core.display.HTML object>"
            ],
            "text/html": [
              "\n",
              "     <input type=\"file\" id=\"files-361d317b-967a-4e3f-96f1-f62a3bf00d6b\" name=\"files[]\" multiple disabled\n",
              "        style=\"border:none\" />\n",
              "     <output id=\"result-361d317b-967a-4e3f-96f1-f62a3bf00d6b\">\n",
              "      Upload widget is only available when the cell has been executed in the\n",
              "      current browser session. Please rerun this cell to enable.\n",
              "      </output>\n",
              "      <script>// Copyright 2017 Google LLC\n",
              "//\n",
              "// Licensed under the Apache License, Version 2.0 (the \"License\");\n",
              "// you may not use this file except in compliance with the License.\n",
              "// You may obtain a copy of the License at\n",
              "//\n",
              "//      http://www.apache.org/licenses/LICENSE-2.0\n",
              "//\n",
              "// Unless required by applicable law or agreed to in writing, software\n",
              "// distributed under the License is distributed on an \"AS IS\" BASIS,\n",
              "// WITHOUT WARRANTIES OR CONDITIONS OF ANY KIND, either express or implied.\n",
              "// See the License for the specific language governing permissions and\n",
              "// limitations under the License.\n",
              "\n",
              "/**\n",
              " * @fileoverview Helpers for google.colab Python module.\n",
              " */\n",
              "(function(scope) {\n",
              "function span(text, styleAttributes = {}) {\n",
              "  const element = document.createElement('span');\n",
              "  element.textContent = text;\n",
              "  for (const key of Object.keys(styleAttributes)) {\n",
              "    element.style[key] = styleAttributes[key];\n",
              "  }\n",
              "  return element;\n",
              "}\n",
              "\n",
              "// Max number of bytes which will be uploaded at a time.\n",
              "const MAX_PAYLOAD_SIZE = 100 * 1024;\n",
              "\n",
              "function _uploadFiles(inputId, outputId) {\n",
              "  const steps = uploadFilesStep(inputId, outputId);\n",
              "  const outputElement = document.getElementById(outputId);\n",
              "  // Cache steps on the outputElement to make it available for the next call\n",
              "  // to uploadFilesContinue from Python.\n",
              "  outputElement.steps = steps;\n",
              "\n",
              "  return _uploadFilesContinue(outputId);\n",
              "}\n",
              "\n",
              "// This is roughly an async generator (not supported in the browser yet),\n",
              "// where there are multiple asynchronous steps and the Python side is going\n",
              "// to poll for completion of each step.\n",
              "// This uses a Promise to block the python side on completion of each step,\n",
              "// then passes the result of the previous step as the input to the next step.\n",
              "function _uploadFilesContinue(outputId) {\n",
              "  const outputElement = document.getElementById(outputId);\n",
              "  const steps = outputElement.steps;\n",
              "\n",
              "  const next = steps.next(outputElement.lastPromiseValue);\n",
              "  return Promise.resolve(next.value.promise).then((value) => {\n",
              "    // Cache the last promise value to make it available to the next\n",
              "    // step of the generator.\n",
              "    outputElement.lastPromiseValue = value;\n",
              "    return next.value.response;\n",
              "  });\n",
              "}\n",
              "\n",
              "/**\n",
              " * Generator function which is called between each async step of the upload\n",
              " * process.\n",
              " * @param {string} inputId Element ID of the input file picker element.\n",
              " * @param {string} outputId Element ID of the output display.\n",
              " * @return {!Iterable<!Object>} Iterable of next steps.\n",
              " */\n",
              "function* uploadFilesStep(inputId, outputId) {\n",
              "  const inputElement = document.getElementById(inputId);\n",
              "  inputElement.disabled = false;\n",
              "\n",
              "  const outputElement = document.getElementById(outputId);\n",
              "  outputElement.innerHTML = '';\n",
              "\n",
              "  const pickedPromise = new Promise((resolve) => {\n",
              "    inputElement.addEventListener('change', (e) => {\n",
              "      resolve(e.target.files);\n",
              "    });\n",
              "  });\n",
              "\n",
              "  const cancel = document.createElement('button');\n",
              "  inputElement.parentElement.appendChild(cancel);\n",
              "  cancel.textContent = 'Cancel upload';\n",
              "  const cancelPromise = new Promise((resolve) => {\n",
              "    cancel.onclick = () => {\n",
              "      resolve(null);\n",
              "    };\n",
              "  });\n",
              "\n",
              "  // Wait for the user to pick the files.\n",
              "  const files = yield {\n",
              "    promise: Promise.race([pickedPromise, cancelPromise]),\n",
              "    response: {\n",
              "      action: 'starting',\n",
              "    }\n",
              "  };\n",
              "\n",
              "  cancel.remove();\n",
              "\n",
              "  // Disable the input element since further picks are not allowed.\n",
              "  inputElement.disabled = true;\n",
              "\n",
              "  if (!files) {\n",
              "    return {\n",
              "      response: {\n",
              "        action: 'complete',\n",
              "      }\n",
              "    };\n",
              "  }\n",
              "\n",
              "  for (const file of files) {\n",
              "    const li = document.createElement('li');\n",
              "    li.append(span(file.name, {fontWeight: 'bold'}));\n",
              "    li.append(span(\n",
              "        `(${file.type || 'n/a'}) - ${file.size} bytes, ` +\n",
              "        `last modified: ${\n",
              "            file.lastModifiedDate ? file.lastModifiedDate.toLocaleDateString() :\n",
              "                                    'n/a'} - `));\n",
              "    const percent = span('0% done');\n",
              "    li.appendChild(percent);\n",
              "\n",
              "    outputElement.appendChild(li);\n",
              "\n",
              "    const fileDataPromise = new Promise((resolve) => {\n",
              "      const reader = new FileReader();\n",
              "      reader.onload = (e) => {\n",
              "        resolve(e.target.result);\n",
              "      };\n",
              "      reader.readAsArrayBuffer(file);\n",
              "    });\n",
              "    // Wait for the data to be ready.\n",
              "    let fileData = yield {\n",
              "      promise: fileDataPromise,\n",
              "      response: {\n",
              "        action: 'continue',\n",
              "      }\n",
              "    };\n",
              "\n",
              "    // Use a chunked sending to avoid message size limits. See b/62115660.\n",
              "    let position = 0;\n",
              "    do {\n",
              "      const length = Math.min(fileData.byteLength - position, MAX_PAYLOAD_SIZE);\n",
              "      const chunk = new Uint8Array(fileData, position, length);\n",
              "      position += length;\n",
              "\n",
              "      const base64 = btoa(String.fromCharCode.apply(null, chunk));\n",
              "      yield {\n",
              "        response: {\n",
              "          action: 'append',\n",
              "          file: file.name,\n",
              "          data: base64,\n",
              "        },\n",
              "      };\n",
              "\n",
              "      let percentDone = fileData.byteLength === 0 ?\n",
              "          100 :\n",
              "          Math.round((position / fileData.byteLength) * 100);\n",
              "      percent.textContent = `${percentDone}% done`;\n",
              "\n",
              "    } while (position < fileData.byteLength);\n",
              "  }\n",
              "\n",
              "  // All done.\n",
              "  yield {\n",
              "    response: {\n",
              "      action: 'complete',\n",
              "    }\n",
              "  };\n",
              "}\n",
              "\n",
              "scope.google = scope.google || {};\n",
              "scope.google.colab = scope.google.colab || {};\n",
              "scope.google.colab._files = {\n",
              "  _uploadFiles,\n",
              "  _uploadFilesContinue,\n",
              "};\n",
              "})(self);\n",
              "</script> "
            ]
          },
          "metadata": {}
        },
        {
          "output_type": "stream",
          "name": "stdout",
          "text": [
            "Saving tvmarketing.csv to tvmarketing.csv\n"
          ]
        }
      ]
    },
    {
      "cell_type": "markdown",
      "source": [
        "### Load dataset"
      ],
      "metadata": {
        "id": "LcjCDG_Mq3RG"
      }
    },
    {
      "cell_type": "markdown",
      "source": [
        "Then define the tvmarketing dataset into the df variable and read it with the syntax above."
      ],
      "metadata": {
        "id": "CmjRlng2rwgh"
      }
    },
    {
      "cell_type": "code",
      "source": [
        "df = pd.read_csv('tvmarketing.csv')"
      ],
      "metadata": {
        "id": "wTbFXi08q2WE"
      },
      "execution_count": null,
      "outputs": []
    },
    {
      "cell_type": "markdown",
      "source": [
        "### Preview dataset"
      ],
      "metadata": {
        "id": "h1ZxlJvaq_bj"
      }
    },
    {
      "cell_type": "markdown",
      "source": [
        "We will see a preview of the previously loaded dataset"
      ],
      "metadata": {
        "id": "_DsqOxSiryWC"
      }
    },
    {
      "cell_type": "code",
      "source": [
        "df.head()"
      ],
      "metadata": {
        "id": "IiKjGmpGq-25",
        "colab": {
          "base_uri": "https://localhost:8080/",
          "height": 206
        },
        "outputId": "83726a46-b5e0-412a-ee13-7f91947a397c"
      },
      "execution_count": null,
      "outputs": [
        {
          "output_type": "execute_result",
          "data": {
            "text/plain": [
              "      TV  Sales\n",
              "0  230.1   22.1\n",
              "1   44.5   10.4\n",
              "2   17.2    9.3\n",
              "3  151.5   18.5\n",
              "4  180.8   12.9"
            ],
            "text/html": [
              "\n",
              "  <div id=\"df-52769896-5500-4491-b921-3713e98785c0\">\n",
              "    <div class=\"colab-df-container\">\n",
              "      <div>\n",
              "<style scoped>\n",
              "    .dataframe tbody tr th:only-of-type {\n",
              "        vertical-align: middle;\n",
              "    }\n",
              "\n",
              "    .dataframe tbody tr th {\n",
              "        vertical-align: top;\n",
              "    }\n",
              "\n",
              "    .dataframe thead th {\n",
              "        text-align: right;\n",
              "    }\n",
              "</style>\n",
              "<table border=\"1\" class=\"dataframe\">\n",
              "  <thead>\n",
              "    <tr style=\"text-align: right;\">\n",
              "      <th></th>\n",
              "      <th>TV</th>\n",
              "      <th>Sales</th>\n",
              "    </tr>\n",
              "  </thead>\n",
              "  <tbody>\n",
              "    <tr>\n",
              "      <th>0</th>\n",
              "      <td>230.1</td>\n",
              "      <td>22.1</td>\n",
              "    </tr>\n",
              "    <tr>\n",
              "      <th>1</th>\n",
              "      <td>44.5</td>\n",
              "      <td>10.4</td>\n",
              "    </tr>\n",
              "    <tr>\n",
              "      <th>2</th>\n",
              "      <td>17.2</td>\n",
              "      <td>9.3</td>\n",
              "    </tr>\n",
              "    <tr>\n",
              "      <th>3</th>\n",
              "      <td>151.5</td>\n",
              "      <td>18.5</td>\n",
              "    </tr>\n",
              "    <tr>\n",
              "      <th>4</th>\n",
              "      <td>180.8</td>\n",
              "      <td>12.9</td>\n",
              "    </tr>\n",
              "  </tbody>\n",
              "</table>\n",
              "</div>\n",
              "      <button class=\"colab-df-convert\" onclick=\"convertToInteractive('df-52769896-5500-4491-b921-3713e98785c0')\"\n",
              "              title=\"Convert this dataframe to an interactive table.\"\n",
              "              style=\"display:none;\">\n",
              "        \n",
              "  <svg xmlns=\"http://www.w3.org/2000/svg\" height=\"24px\"viewBox=\"0 0 24 24\"\n",
              "       width=\"24px\">\n",
              "    <path d=\"M0 0h24v24H0V0z\" fill=\"none\"/>\n",
              "    <path d=\"M18.56 5.44l.94 2.06.94-2.06 2.06-.94-2.06-.94-.94-2.06-.94 2.06-2.06.94zm-11 1L8.5 8.5l.94-2.06 2.06-.94-2.06-.94L8.5 2.5l-.94 2.06-2.06.94zm10 10l.94 2.06.94-2.06 2.06-.94-2.06-.94-.94-2.06-.94 2.06-2.06.94z\"/><path d=\"M17.41 7.96l-1.37-1.37c-.4-.4-.92-.59-1.43-.59-.52 0-1.04.2-1.43.59L10.3 9.45l-7.72 7.72c-.78.78-.78 2.05 0 2.83L4 21.41c.39.39.9.59 1.41.59.51 0 1.02-.2 1.41-.59l7.78-7.78 2.81-2.81c.8-.78.8-2.07 0-2.86zM5.41 20L4 18.59l7.72-7.72 1.47 1.35L5.41 20z\"/>\n",
              "  </svg>\n",
              "      </button>\n",
              "      \n",
              "  <style>\n",
              "    .colab-df-container {\n",
              "      display:flex;\n",
              "      flex-wrap:wrap;\n",
              "      gap: 12px;\n",
              "    }\n",
              "\n",
              "    .colab-df-convert {\n",
              "      background-color: #E8F0FE;\n",
              "      border: none;\n",
              "      border-radius: 50%;\n",
              "      cursor: pointer;\n",
              "      display: none;\n",
              "      fill: #1967D2;\n",
              "      height: 32px;\n",
              "      padding: 0 0 0 0;\n",
              "      width: 32px;\n",
              "    }\n",
              "\n",
              "    .colab-df-convert:hover {\n",
              "      background-color: #E2EBFA;\n",
              "      box-shadow: 0px 1px 2px rgba(60, 64, 67, 0.3), 0px 1px 3px 1px rgba(60, 64, 67, 0.15);\n",
              "      fill: #174EA6;\n",
              "    }\n",
              "\n",
              "    [theme=dark] .colab-df-convert {\n",
              "      background-color: #3B4455;\n",
              "      fill: #D2E3FC;\n",
              "    }\n",
              "\n",
              "    [theme=dark] .colab-df-convert:hover {\n",
              "      background-color: #434B5C;\n",
              "      box-shadow: 0px 1px 3px 1px rgba(0, 0, 0, 0.15);\n",
              "      filter: drop-shadow(0px 1px 2px rgba(0, 0, 0, 0.3));\n",
              "      fill: #FFFFFF;\n",
              "    }\n",
              "  </style>\n",
              "\n",
              "      <script>\n",
              "        const buttonEl =\n",
              "          document.querySelector('#df-52769896-5500-4491-b921-3713e98785c0 button.colab-df-convert');\n",
              "        buttonEl.style.display =\n",
              "          google.colab.kernel.accessAllowed ? 'block' : 'none';\n",
              "\n",
              "        async function convertToInteractive(key) {\n",
              "          const element = document.querySelector('#df-52769896-5500-4491-b921-3713e98785c0');\n",
              "          const dataTable =\n",
              "            await google.colab.kernel.invokeFunction('convertToInteractive',\n",
              "                                                     [key], {});\n",
              "          if (!dataTable) return;\n",
              "\n",
              "          const docLinkHtml = 'Like what you see? Visit the ' +\n",
              "            '<a target=\"_blank\" href=https://colab.research.google.com/notebooks/data_table.ipynb>data table notebook</a>'\n",
              "            + ' to learn more about interactive tables.';\n",
              "          element.innerHTML = '';\n",
              "          dataTable['output_type'] = 'display_data';\n",
              "          await google.colab.output.renderOutput(dataTable, element);\n",
              "          const docLink = document.createElement('div');\n",
              "          docLink.innerHTML = docLinkHtml;\n",
              "          element.appendChild(docLink);\n",
              "        }\n",
              "      </script>\n",
              "    </div>\n",
              "  </div>\n",
              "  "
            ]
          },
          "metadata": {},
          "execution_count": 7
        }
      ]
    },
    {
      "cell_type": "markdown",
      "source": [
        "The table above is a display of the **top 5 rows** of the dataset to be used."
      ],
      "metadata": {
        "id": "al3nUyNsC4Tw"
      }
    },
    {
      "cell_type": "markdown",
      "source": [
        "### Info dataset"
      ],
      "metadata": {
        "id": "H_WsSU1YrGKy"
      }
    },
    {
      "cell_type": "markdown",
      "source": [
        "We will display information from an existing dataset"
      ],
      "metadata": {
        "id": "pEUdgTovsCwW"
      }
    },
    {
      "cell_type": "code",
      "source": [
        "df.info()"
      ],
      "metadata": {
        "id": "t8h-HPoZrHh8",
        "colab": {
          "base_uri": "https://localhost:8080/"
        },
        "outputId": "88d75d14-d6e6-464b-8685-5a3b18655540"
      },
      "execution_count": null,
      "outputs": [
        {
          "output_type": "stream",
          "name": "stdout",
          "text": [
            "<class 'pandas.core.frame.DataFrame'>\n",
            "RangeIndex: 200 entries, 0 to 199\n",
            "Data columns (total 2 columns):\n",
            " #   Column  Non-Null Count  Dtype  \n",
            "---  ------  --------------  -----  \n",
            " 0   TV      200 non-null    float64\n",
            " 1   Sales   200 non-null    float64\n",
            "dtypes: float64(2)\n",
            "memory usage: 3.2 KB\n"
          ]
        }
      ]
    },
    {
      "cell_type": "markdown",
      "source": [
        "The dataset has a total of **200 values** and the data type is float"
      ],
      "metadata": {
        "id": "BWSS6C5UCjT1"
      }
    },
    {
      "cell_type": "markdown",
      "source": [
        "### Check missing value"
      ],
      "metadata": {
        "id": "8MpS26UArL8R"
      }
    },
    {
      "cell_type": "markdown",
      "source": [
        "In this section we will check whether there are missing values or not"
      ],
      "metadata": {
        "id": "b2UYpGTksWdQ"
      }
    },
    {
      "cell_type": "code",
      "source": [
        "df.isna().sum()"
      ],
      "metadata": {
        "id": "zQEIYW4SrJHX",
        "colab": {
          "base_uri": "https://localhost:8080/"
        },
        "outputId": "a99517f7-97eb-4296-cdce-4a5f0573b9ef"
      },
      "execution_count": null,
      "outputs": [
        {
          "output_type": "execute_result",
          "data": {
            "text/plain": [
              "TV       0\n",
              "Sales    0\n",
              "dtype: int64"
            ]
          },
          "metadata": {},
          "execution_count": 9
        }
      ]
    },
    {
      "cell_type": "markdown",
      "source": [
        "It can be seen that the dataset **has no empty values**."
      ],
      "metadata": {
        "id": "89GD4I03Cpz_"
      }
    },
    {
      "cell_type": "markdown",
      "source": [
        "### Describe Dataset"
      ],
      "metadata": {
        "id": "VUuq7R-cuSKL"
      }
    },
    {
      "cell_type": "markdown",
      "source": [
        "We will display basic statistical information from TV Marketing data such as percentile, mean, std, etc."
      ],
      "metadata": {
        "id": "RYzUxU53slcq"
      }
    },
    {
      "cell_type": "code",
      "source": [
        "df.describe().T"
      ],
      "metadata": {
        "id": "c9w4gkFLtsR0",
        "colab": {
          "base_uri": "https://localhost:8080/",
          "height": 112
        },
        "outputId": "51767d52-852d-4946-acf6-fe159055c8b5"
      },
      "execution_count": null,
      "outputs": [
        {
          "output_type": "execute_result",
          "data": {
            "text/plain": [
              "       count      mean        std  min     25%     50%      75%    max\n",
              "TV     200.0  147.0425  85.854236  0.7  74.375  149.75  218.825  296.4\n",
              "Sales  200.0   14.0225   5.217457  1.6  10.375   12.90   17.400   27.0"
            ],
            "text/html": [
              "\n",
              "  <div id=\"df-a66643b6-c00d-4e5e-8c46-9163055ebc9f\">\n",
              "    <div class=\"colab-df-container\">\n",
              "      <div>\n",
              "<style scoped>\n",
              "    .dataframe tbody tr th:only-of-type {\n",
              "        vertical-align: middle;\n",
              "    }\n",
              "\n",
              "    .dataframe tbody tr th {\n",
              "        vertical-align: top;\n",
              "    }\n",
              "\n",
              "    .dataframe thead th {\n",
              "        text-align: right;\n",
              "    }\n",
              "</style>\n",
              "<table border=\"1\" class=\"dataframe\">\n",
              "  <thead>\n",
              "    <tr style=\"text-align: right;\">\n",
              "      <th></th>\n",
              "      <th>count</th>\n",
              "      <th>mean</th>\n",
              "      <th>std</th>\n",
              "      <th>min</th>\n",
              "      <th>25%</th>\n",
              "      <th>50%</th>\n",
              "      <th>75%</th>\n",
              "      <th>max</th>\n",
              "    </tr>\n",
              "  </thead>\n",
              "  <tbody>\n",
              "    <tr>\n",
              "      <th>TV</th>\n",
              "      <td>200.0</td>\n",
              "      <td>147.0425</td>\n",
              "      <td>85.854236</td>\n",
              "      <td>0.7</td>\n",
              "      <td>74.375</td>\n",
              "      <td>149.75</td>\n",
              "      <td>218.825</td>\n",
              "      <td>296.4</td>\n",
              "    </tr>\n",
              "    <tr>\n",
              "      <th>Sales</th>\n",
              "      <td>200.0</td>\n",
              "      <td>14.0225</td>\n",
              "      <td>5.217457</td>\n",
              "      <td>1.6</td>\n",
              "      <td>10.375</td>\n",
              "      <td>12.90</td>\n",
              "      <td>17.400</td>\n",
              "      <td>27.0</td>\n",
              "    </tr>\n",
              "  </tbody>\n",
              "</table>\n",
              "</div>\n",
              "      <button class=\"colab-df-convert\" onclick=\"convertToInteractive('df-a66643b6-c00d-4e5e-8c46-9163055ebc9f')\"\n",
              "              title=\"Convert this dataframe to an interactive table.\"\n",
              "              style=\"display:none;\">\n",
              "        \n",
              "  <svg xmlns=\"http://www.w3.org/2000/svg\" height=\"24px\"viewBox=\"0 0 24 24\"\n",
              "       width=\"24px\">\n",
              "    <path d=\"M0 0h24v24H0V0z\" fill=\"none\"/>\n",
              "    <path d=\"M18.56 5.44l.94 2.06.94-2.06 2.06-.94-2.06-.94-.94-2.06-.94 2.06-2.06.94zm-11 1L8.5 8.5l.94-2.06 2.06-.94-2.06-.94L8.5 2.5l-.94 2.06-2.06.94zm10 10l.94 2.06.94-2.06 2.06-.94-2.06-.94-.94-2.06-.94 2.06-2.06.94z\"/><path d=\"M17.41 7.96l-1.37-1.37c-.4-.4-.92-.59-1.43-.59-.52 0-1.04.2-1.43.59L10.3 9.45l-7.72 7.72c-.78.78-.78 2.05 0 2.83L4 21.41c.39.39.9.59 1.41.59.51 0 1.02-.2 1.41-.59l7.78-7.78 2.81-2.81c.8-.78.8-2.07 0-2.86zM5.41 20L4 18.59l7.72-7.72 1.47 1.35L5.41 20z\"/>\n",
              "  </svg>\n",
              "      </button>\n",
              "      \n",
              "  <style>\n",
              "    .colab-df-container {\n",
              "      display:flex;\n",
              "      flex-wrap:wrap;\n",
              "      gap: 12px;\n",
              "    }\n",
              "\n",
              "    .colab-df-convert {\n",
              "      background-color: #E8F0FE;\n",
              "      border: none;\n",
              "      border-radius: 50%;\n",
              "      cursor: pointer;\n",
              "      display: none;\n",
              "      fill: #1967D2;\n",
              "      height: 32px;\n",
              "      padding: 0 0 0 0;\n",
              "      width: 32px;\n",
              "    }\n",
              "\n",
              "    .colab-df-convert:hover {\n",
              "      background-color: #E2EBFA;\n",
              "      box-shadow: 0px 1px 2px rgba(60, 64, 67, 0.3), 0px 1px 3px 1px rgba(60, 64, 67, 0.15);\n",
              "      fill: #174EA6;\n",
              "    }\n",
              "\n",
              "    [theme=dark] .colab-df-convert {\n",
              "      background-color: #3B4455;\n",
              "      fill: #D2E3FC;\n",
              "    }\n",
              "\n",
              "    [theme=dark] .colab-df-convert:hover {\n",
              "      background-color: #434B5C;\n",
              "      box-shadow: 0px 1px 3px 1px rgba(0, 0, 0, 0.15);\n",
              "      filter: drop-shadow(0px 1px 2px rgba(0, 0, 0, 0.3));\n",
              "      fill: #FFFFFF;\n",
              "    }\n",
              "  </style>\n",
              "\n",
              "      <script>\n",
              "        const buttonEl =\n",
              "          document.querySelector('#df-a66643b6-c00d-4e5e-8c46-9163055ebc9f button.colab-df-convert');\n",
              "        buttonEl.style.display =\n",
              "          google.colab.kernel.accessAllowed ? 'block' : 'none';\n",
              "\n",
              "        async function convertToInteractive(key) {\n",
              "          const element = document.querySelector('#df-a66643b6-c00d-4e5e-8c46-9163055ebc9f');\n",
              "          const dataTable =\n",
              "            await google.colab.kernel.invokeFunction('convertToInteractive',\n",
              "                                                     [key], {});\n",
              "          if (!dataTable) return;\n",
              "\n",
              "          const docLinkHtml = 'Like what you see? Visit the ' +\n",
              "            '<a target=\"_blank\" href=https://colab.research.google.com/notebooks/data_table.ipynb>data table notebook</a>'\n",
              "            + ' to learn more about interactive tables.';\n",
              "          element.innerHTML = '';\n",
              "          dataTable['output_type'] = 'display_data';\n",
              "          await google.colab.output.renderOutput(dataTable, element);\n",
              "          const docLink = document.createElement('div');\n",
              "          docLink.innerHTML = docLinkHtml;\n",
              "          element.appendChild(docLink);\n",
              "        }\n",
              "      </script>\n",
              "    </div>\n",
              "  </div>\n",
              "  "
            ]
          },
          "metadata": {},
          "execution_count": 10
        }
      ]
    },
    {
      "cell_type": "markdown",
      "source": [
        "From the above table it is known that there are 200 rows with **average** money spent on advertising **through TV** is **147.04** and **average sales** is **14 ,02**. Money spent on advertising **least is 0.7** and **most is 296.4**. The **least sale is 1.6** and the **most is 27**."
      ],
      "metadata": {
        "id": "YGFigg_iyKnA"
      }
    },
    {
      "cell_type": "markdown",
      "source": [
        "# Data Cleansing\n",
        "\n",
        "The dataset is clean because the data no longer has missing values and the data types are already appropriate."
      ],
      "metadata": {
        "id": "d_wnTKehtwKb"
      }
    },
    {
      "cell_type": "markdown",
      "source": [
        "# Exploratory Data Analysis"
      ],
      "metadata": {
        "id": "er8hhoq-r_4k"
      }
    },
    {
      "cell_type": "markdown",
      "source": [
        "### Scatterplot\n",
        "\n",
        "We'll display a scatterplot to see the relationship between sales and TV marketing"
      ],
      "metadata": {
        "id": "3nt_T0xftguQ"
      }
    },
    {
      "cell_type": "code",
      "source": [
        "plt.scatter(df['TV'],df['Sales'], color = 'red')\n",
        "plt.title('Scatter Plot')\n",
        "plt.xlabel(\"TV Marketing\")\n",
        "plt.ylabel(\"Sales\")\n",
        "plt.show()"
      ],
      "metadata": {
        "id": "v6pn999AsIG0",
        "colab": {
          "base_uri": "https://localhost:8080/",
          "height": 295
        },
        "outputId": "96a175a7-787b-4c44-b4b5-f81d747ae6da"
      },
      "execution_count": null,
      "outputs": [
        {
          "output_type": "display_data",
          "data": {
            "text/plain": [
              "<Figure size 432x288 with 1 Axes>"
            ],
            "image/png": "[encoded data removed]"
          },
          "metadata": {
            "needs_background": "light"
          }
        }
      ]
    },
    {
      "cell_type": "markdown",
      "source": [
        "From the chart above, it can be seen that there is a **strong relationship** between TV advertising and sales. Based on scatterplot, the relationship between TV advertising and sales is **directly proportional**. As more money is spent on advertising on TV, sales will increase."
      ],
      "metadata": {
        "id": "OSCERuTzuI8T"
      }
    },
    {
      "cell_type": "markdown",
      "source": [
        "### Heatmap\n",
        "\n",
        "We will display a heatmap to see the relationship between sales and TV marketing from the correlation values."
      ],
      "metadata": {
        "id": "JvXuO2intuko"
      }
    },
    {
      "cell_type": "code",
      "source": [
        "sns.heatmap(df.corr(),annot=True)"
      ],
      "metadata": {
        "id": "CyyXkY8SvxBO",
        "colab": {
          "base_uri": "https://localhost:8080/",
          "height": 286
        },
        "outputId": "6a8992c5-6822-4c57-8dca-7e7cef7fff64"
      },
      "execution_count": null,
      "outputs": [
        {
          "output_type": "execute_result",
          "data": {
            "text/plain": [
              "<matplotlib.axes._subplots.AxesSubplot at 0x7f243531a390>"
            ]
          },
          "metadata": {},
          "execution_count": 12
        },
        {
          "output_type": "display_data",
          "data": {
            "text/plain": [
              "<Figure size 432x288 with 2 Axes>"
            ],
            "image/png": "[encoded data removed]"
          },
          "metadata": {
            "needs_background": "light"
          }
        }
      ]
    },
    {
      "cell_type": "markdown",
      "source": [
        "From the heatmap above, it can be seen that **there is a strong relationship** between TV advertising and sales. This is because the correlation value between sales and tv marketing is **0.78** where it is **more than 0.5**."
      ],
      "metadata": {
        "id": "5A9kF3KGz4gv"
      }
    },
    {
      "cell_type": "markdown",
      "source": [
        "# Preprocessing Modeling"
      ],
      "metadata": {
        "id": "kYonCo6wrw5a"
      }
    },
    {
      "cell_type": "markdown",
      "source": [
        "Next we will do preprocessing modeling. The variable Y to be used is the Sales variable so for the variable X it can be defined for all variables except the Sales variable."
      ],
      "metadata": {
        "id": "57FXnRPy0yVr"
      }
    },
    {
      "cell_type": "code",
      "source": [
        "X = df.drop(['Sales'], axis=1)\n",
        "y = df['Sales']"
      ],
      "metadata": {
        "id": "UUUvTK-RrWhv"
      },
      "execution_count": null,
      "outputs": []
    },
    {
      "cell_type": "markdown",
      "source": [
        "### Splitting Train & Test\n",
        "\n",
        "Before modeling, it is necessary to divide the dataset into two parts, namely the part used for data training and for data testing with a proportion of 1/3."
      ],
      "metadata": {
        "id": "eBWOoiXB018p"
      }
    },
    {
      "cell_type": "code",
      "source": [
        "X_train, X_test, y_train, y_test = train_test_split(X,y,train_size=1/3,random_state=42)"
      ],
      "metadata": {
        "id": "NpFQ4KgTrZYK"
      },
      "execution_count": null,
      "outputs": []
    },
    {
      "cell_type": "markdown",
      "source": [
        "# Modeling: Linear Regression"
      ],
      "metadata": {
        "id": "TEQBRs1xr2H8"
      }
    },
    {
      "cell_type": "markdown",
      "source": [
        "At this stage, we will do modeling with training data using a Linear Regression model."
      ],
      "metadata": {
        "id": "UwqX1H601K5P"
      }
    },
    {
      "cell_type": "code",
      "source": [
        "model = LinearRegression()"
      ],
      "metadata": {
        "id": "FpYYV3AnraBj"
      },
      "execution_count": null,
      "outputs": []
    },
    {
      "cell_type": "code",
      "source": [
        "model.fit(X_train, y_train)"
      ],
      "metadata": {
        "id": "abEBdj7fs9lb",
        "colab": {
          "base_uri": "https://localhost:8080/"
        },
        "outputId": "1b20ff46-934d-48b2-ae63-28340b599483"
      },
      "execution_count": null,
      "outputs": [
        {
          "output_type": "execute_result",
          "data": {
            "text/plain": [
              "LinearRegression()"
            ]
          },
          "metadata": {},
          "execution_count": 16
        }
      ]
    },
    {
      "cell_type": "markdown",
      "source": [
        "After that, we will make predictions using the previously trained Linear Regression model. You can see a comparison between modeling training datasets and predicting testing datasets that can be continued to the model evaluation stage."
      ],
      "metadata": {
        "id": "9aagRCsE1PqN"
      }
    },
    {
      "cell_type": "code",
      "source": [
        "y_pred =  model.predict(X_test)"
      ],
      "metadata": {
        "id": "4DK5J3mArlLb"
      },
      "execution_count": null,
      "outputs": []
    },
    {
      "cell_type": "code",
      "source": [
        "plt.scatter(X_train, y_train, color='red')\n",
        "plt.plot(X_test.values, y_pred, color='blue')\n",
        "plt.title('Scatter Plot Actual vs Prediction')\n",
        "plt.show()"
      ],
      "metadata": {
        "id": "tKETbaVzvRc6",
        "colab": {
          "base_uri": "https://localhost:8080/",
          "height": 281
        },
        "outputId": "4609176f-38e3-4934-dd31-37ea81e3acaa"
      },
      "execution_count": null,
      "outputs": [
        {
          "output_type": "display_data",
          "data": {
            "text/plain": [
              "<Figure size 432x288 with 1 Axes>"
            ],
            "image/png": "[encoded data removed]"
          },
          "metadata": {
            "needs_background": "light"
          }
        }
      ]
    },
    {
      "cell_type": "markdown",
      "source": [
        "Based on the scatter plot above, it can be seen that the modeled train data tends to **approach the linear line** which is the result of the prediction. This means that the data and the predicted results are not much different so it can be said that **the data follows a linear regression model**."
      ],
      "metadata": {
        "id": "4tHwvnHW7U7E"
      }
    },
    {
      "cell_type": "markdown",
      "source": [
        "# Evaluate Model"
      ],
      "metadata": {
        "id": "5SFZijXSr7rM"
      }
    },
    {
      "cell_type": "markdown",
      "source": [
        "In the last stage, we will evaluate the model using MAE, MAPE, R-Square, and RMSE to see if the model formed is good enough."
      ],
      "metadata": {
        "id": "9aC7c0i41TRw"
      }
    },
    {
      "cell_type": "code",
      "source": [
        "result = pd.DataFrame({'Actual': y_test, 'Predict': y_pred})\n",
        "result"
      ],
      "metadata": {
        "id": "XyDt-rP9rm7C",
        "colab": {
          "base_uri": "https://localhost:8080/",
          "height": 424
        },
        "outputId": "fe562e0a-38e7-49f2-a7f3-7750b33659c6"
      },
      "execution_count": null,
      "outputs": [
        {
          "output_type": "execute_result",
          "data": {
            "text/plain": [
              "     Actual    Predict\n",
              "95     16.9  14.670372\n",
              "15     22.4  16.110618\n",
              "30     21.4  20.485196\n",
              "158     7.3   7.868464\n",
              "128    24.7  17.227818\n",
              "..      ...        ...\n",
              "39     21.5  17.573297\n",
              "168    17.1  17.007967\n",
              "47     23.2  18.107220\n",
              "94     11.5  12.162281\n",
              "154    15.6  15.769625\n",
              "\n",
              "[134 rows x 2 columns]"
            ],
            "text/html": [
              "\n",
              "  <div id=\"df-dae5a108-d1b1-4224-8a5a-9703754df694\">\n",
              "    <div class=\"colab-df-container\">\n",
              "      <div>\n",
              "<style scoped>\n",
              "    .dataframe tbody tr th:only-of-type {\n",
              "        vertical-align: middle;\n",
              "    }\n",
              "\n",
              "    .dataframe tbody tr th {\n",
              "        vertical-align: top;\n",
              "    }\n",
              "\n",
              "    .dataframe thead th {\n",
              "        text-align: right;\n",
              "    }\n",
              "</style>\n",
              "<table border=\"1\" class=\"dataframe\">\n",
              "  <thead>\n",
              "    <tr style=\"text-align: right;\">\n",
              "      <th></th>\n",
              "      <th>Actual</th>\n",
              "      <th>Predict</th>\n",
              "    </tr>\n",
              "  </thead>\n",
              "  <tbody>\n",
              "    <tr>\n",
              "      <th>95</th>\n",
              "      <td>16.9</td>\n",
              "      <td>14.670372</td>\n",
              "    </tr>\n",
              "    <tr>\n",
              "      <th>15</th>\n",
              "      <td>22.4</td>\n",
              "      <td>16.110618</td>\n",
              "    </tr>\n",
              "    <tr>\n",
              "      <th>30</th>\n",
              "      <td>21.4</td>\n",
              "      <td>20.485196</td>\n",
              "    </tr>\n",
              "    <tr>\n",
              "      <th>158</th>\n",
              "      <td>7.3</td>\n",
              "      <td>7.868464</td>\n",
              "    </tr>\n",
              "    <tr>\n",
              "      <th>128</th>\n",
              "      <td>24.7</td>\n",
              "      <td>17.227818</td>\n",
              "    </tr>\n",
              "    <tr>\n",
              "      <th>...</th>\n",
              "      <td>...</td>\n",
              "      <td>...</td>\n",
              "    </tr>\n",
              "    <tr>\n",
              "      <th>39</th>\n",
              "      <td>21.5</td>\n",
              "      <td>17.573297</td>\n",
              "    </tr>\n",
              "    <tr>\n",
              "      <th>168</th>\n",
              "      <td>17.1</td>\n",
              "      <td>17.007967</td>\n",
              "    </tr>\n",
              "    <tr>\n",
              "      <th>47</th>\n",
              "      <td>23.2</td>\n",
              "      <td>18.107220</td>\n",
              "    </tr>\n",
              "    <tr>\n",
              "      <th>94</th>\n",
              "      <td>11.5</td>\n",
              "      <td>12.162281</td>\n",
              "    </tr>\n",
              "    <tr>\n",
              "      <th>154</th>\n",
              "      <td>15.6</td>\n",
              "      <td>15.769625</td>\n",
              "    </tr>\n",
              "  </tbody>\n",
              "</table>\n",
              "<p>134 rows × 2 columns</p>\n",
              "</div>\n",
              "      <button class=\"colab-df-convert\" onclick=\"convertToInteractive('df-dae5a108-d1b1-4224-8a5a-9703754df694')\"\n",
              "              title=\"Convert this dataframe to an interactive table.\"\n",
              "              style=\"display:none;\">\n",
              "        \n",
              "  <svg xmlns=\"http://www.w3.org/2000/svg\" height=\"24px\"viewBox=\"0 0 24 24\"\n",
              "       width=\"24px\">\n",
              "    <path d=\"M0 0h24v24H0V0z\" fill=\"none\"/>\n",
              "    <path d=\"M18.56 5.44l.94 2.06.94-2.06 2.06-.94-2.06-.94-.94-2.06-.94 2.06-2.06.94zm-11 1L8.5 8.5l.94-2.06 2.06-.94-2.06-.94L8.5 2.5l-.94 2.06-2.06.94zm10 10l.94 2.06.94-2.06 2.06-.94-2.06-.94-.94-2.06-.94 2.06-2.06.94z\"/><path d=\"M17.41 7.96l-1.37-1.37c-.4-.4-.92-.59-1.43-.59-.52 0-1.04.2-1.43.59L10.3 9.45l-7.72 7.72c-.78.78-.78 2.05 0 2.83L4 21.41c.39.39.9.59 1.41.59.51 0 1.02-.2 1.41-.59l7.78-7.78 2.81-2.81c.8-.78.8-2.07 0-2.86zM5.41 20L4 18.59l7.72-7.72 1.47 1.35L5.41 20z\"/>\n",
              "  </svg>\n",
              "      </button>\n",
              "      \n",
              "  <style>\n",
              "    .colab-df-container {\n",
              "      display:flex;\n",
              "      flex-wrap:wrap;\n",
              "      gap: 12px;\n",
              "    }\n",
              "\n",
              "    .colab-df-convert {\n",
              "      background-color: #E8F0FE;\n",
              "      border: none;\n",
              "      border-radius: 50%;\n",
              "      cursor: pointer;\n",
              "      display: none;\n",
              "      fill: #1967D2;\n",
              "      height: 32px;\n",
              "      padding: 0 0 0 0;\n",
              "      width: 32px;\n",
              "    }\n",
              "\n",
              "    .colab-df-convert:hover {\n",
              "      background-color: #E2EBFA;\n",
              "      box-shadow: 0px 1px 2px rgba(60, 64, 67, 0.3), 0px 1px 3px 1px rgba(60, 64, 67, 0.15);\n",
              "      fill: #174EA6;\n",
              "    }\n",
              "\n",
              "    [theme=dark] .colab-df-convert {\n",
              "      background-color: #3B4455;\n",
              "      fill: #D2E3FC;\n",
              "    }\n",
              "\n",
              "    [theme=dark] .colab-df-convert:hover {\n",
              "      background-color: #434B5C;\n",
              "      box-shadow: 0px 1px 3px 1px rgba(0, 0, 0, 0.15);\n",
              "      filter: drop-shadow(0px 1px 2px rgba(0, 0, 0, 0.3));\n",
              "      fill: #FFFFFF;\n",
              "    }\n",
              "  </style>\n",
              "\n",
              "      <script>\n",
              "        const buttonEl =\n",
              "          document.querySelector('#df-dae5a108-d1b1-4224-8a5a-9703754df694 button.colab-df-convert');\n",
              "        buttonEl.style.display =\n",
              "          google.colab.kernel.accessAllowed ? 'block' : 'none';\n",
              "\n",
              "        async function convertToInteractive(key) {\n",
              "          const element = document.querySelector('#df-dae5a108-d1b1-4224-8a5a-9703754df694');\n",
              "          const dataTable =\n",
              "            await google.colab.kernel.invokeFunction('convertToInteractive',\n",
              "                                                     [key], {});\n",
              "          if (!dataTable) return;\n",
              "\n",
              "          const docLinkHtml = 'Like what you see? Visit the ' +\n",
              "            '<a target=\"_blank\" href=https://colab.research.google.com/notebooks/data_table.ipynb>data table notebook</a>'\n",
              "            + ' to learn more about interactive tables.';\n",
              "          element.innerHTML = '';\n",
              "          dataTable['output_type'] = 'display_data';\n",
              "          await google.colab.output.renderOutput(dataTable, element);\n",
              "          const docLink = document.createElement('div');\n",
              "          docLink.innerHTML = docLinkHtml;\n",
              "          element.appendChild(docLink);\n",
              "        }\n",
              "      </script>\n",
              "    </div>\n",
              "  </div>\n",
              "  "
            ]
          },
          "metadata": {},
          "execution_count": 19
        }
      ]
    },
    {
      "cell_type": "markdown",
      "source": [
        "### MAE\n",
        "MAE is the average of the absolute difference between the actual value and the predicted value"
      ],
      "metadata": {
        "id": "YRh-Ix3MFTQZ"
      }
    },
    {
      "cell_type": "code",
      "source": [
        "mean_absolute_error(y_test, y_pred)"
      ],
      "metadata": {
        "id": "gqvKDA4TrpJz",
        "colab": {
          "base_uri": "https://localhost:8080/"
        },
        "outputId": "abc8099e-eed5-43c3-f9ed-eebfa225809d"
      },
      "execution_count": null,
      "outputs": [
        {
          "output_type": "execute_result",
          "data": {
            "text/plain": [
              "2.3813679825552074"
            ]
          },
          "metadata": {},
          "execution_count": 20
        }
      ]
    },
    {
      "cell_type": "markdown",
      "source": [
        "Based on the evaluation of the model using MAE, a fairly small value was obtained and close to 0, which is 2,381. This means that the formed model is good for prediction."
      ],
      "metadata": {
        "id": "2hwmLD3OIDf_"
      }
    },
    {
      "cell_type": "markdown",
      "source": [
        "### MAPE \n",
        "MAPE (Mean Absolute Percentage Error) is the mean absolute percentage difference between the actual and the predicted value.\n"
      ],
      "metadata": {
        "id": "KtkuYB-QFW0_"
      }
    },
    {
      "cell_type": "code",
      "source": [
        "mean_absolute_percentage_error(y_test, y_pred)"
      ],
      "metadata": {
        "id": "IkJDbsafrrOC",
        "colab": {
          "base_uri": "https://localhost:8080/"
        },
        "outputId": "064fbd41-5efb-4047-cf05-1c79204ad0d5"
      },
      "execution_count": null,
      "outputs": [
        {
          "output_type": "execute_result",
          "data": {
            "text/plain": [
              "0.18279457728279747"
            ]
          },
          "metadata": {},
          "execution_count": 21
        }
      ]
    },
    {
      "cell_type": "markdown",
      "source": [
        "Based on the evaluation of the model using MAPE, a value of 0.18 or 18% is obtained, where this figure is below 20%. This means that the model formed has good forecasting results."
      ],
      "metadata": {
        "id": "9YRCtTvlxxIG"
      }
    },
    {
      "cell_type": "markdown",
      "source": [
        "### R-Square Score\n",
        "R square is a number ranging from 0 to 1 which indicates the magnitude of the combination of independent variables together affecting the value of the dependent variable"
      ],
      "metadata": {
        "id": "7OQBeWV9FblH"
      }
    },
    {
      "cell_type": "code",
      "source": [
        "r2_score(y_test,y_pred)"
      ],
      "metadata": {
        "id": "EBI-jxhJrslb",
        "colab": {
          "base_uri": "https://localhost:8080/"
        },
        "outputId": "21932869-b10f-4812-cf83-328ed136a8fe"
      },
      "execution_count": null,
      "outputs": [
        {
          "output_type": "execute_result",
          "data": {
            "text/plain": [
              "0.6569436980049992"
            ]
          },
          "metadata": {},
          "execution_count": 22
        }
      ]
    },
    {
      "cell_type": "markdown",
      "source": [
        "Based on the evaluation of the model using R-Square, a value of 0.65 or 65% is obtained. This means that TV advertising has an effect of 65% on sales while the remaining 35% is influenced by other unknown factors.\n"
      ],
      "metadata": {
        "id": "-kMx1P1_yEPX"
      }
    },
    {
      "cell_type": "markdown",
      "source": [
        "### RMSE\n",
        "Root Mean Square Error (RMSE) is the sum of the squared errors or the difference between the actual value and the predetermined predicted value."
      ],
      "metadata": {
        "id": "5v-SexLTFeiY"
      }
    },
    {
      "cell_type": "code",
      "source": [
        "rmse = np.sqrt(mean_squared_error(y_test,y_pred))\n",
        "rmse"
      ],
      "metadata": {
        "id": "l3mQiiAoruMz",
        "colab": {
          "base_uri": "https://localhost:8080/"
        },
        "outputId": "7932ee8d-cec2-4a9c-b5be-20b75b3ed403"
      },
      "execution_count": null,
      "outputs": [
        {
          "output_type": "execute_result",
          "data": {
            "text/plain": [
              "3.060418770219597"
            ]
          },
          "metadata": {},
          "execution_count": 23
        }
      ]
    },
    {
      "cell_type": "markdown",
      "source": [
        "Based on the evaluation of the model using the RMSE, a fairly small value was obtained and close to 0, which is 3.06. This means that the model is good enough to make predictions."
      ],
      "metadata": {
        "id": "N1cMfzI9yGE5"
      }
    },
    {
      "cell_type": "markdown",
      "source": [
        "# Model Deployment\n",
        "\n",
        "We will create a deployment pipeline\n"
      ],
      "metadata": {
        "id": "ENwp6ppECZWw"
      }
    },
    {
      "cell_type": "code",
      "source": [
        "# Data Profiling\n",
        "# Import Package\n",
        "\n",
        "import os\n",
        "import sys\n",
        "\n",
        "import pandas as pd\n",
        "import numpy as np\n",
        "from sklearn.linear_model import LinearRegression\n",
        "from sklearn.model_selection import train_test_split\n",
        "from sklearn.preprocessing import StandardScaler\n",
        "from sklearn.preprocessing import MinMaxScaler\n",
        "from sklearn.metrics import mean_squared_error, mean_absolute_error, mean_absolute_percentage_error, r2_score\n",
        "import warnings\n",
        "warnings.filterwarnings('ignore')\n",
        "\n",
        "from urllib.parse import urlparse\n",
        "\n",
        "import mlflow\n",
        "import mlflow.sklearn\n",
        "\n",
        "import logging\n",
        "\n",
        "logging.basicConfig(level=logging.WARN)\n",
        "logger = logging.getLogger(__name__)\n",
        "\n",
        "if __name__ == \"_main_\":\n",
        "    warnings.filterwarnings(\"ignore\")\n",
        "    np.random.seed(40)\n",
        "\n",
        "#Load Dataset\n",
        "df = pd.read_csv('tvmarketing.csv')\n",
        "\n",
        "#Preprocessing Modeling\n",
        "X = df.drop(['Sales'], axis=1)\n",
        "y = df['Sales']\n",
        "\n",
        "#Splitting Training and Test Set\n",
        "X_train, X_test, y_train, y_test = train_test_split(X, y, train_size = 1/3, random_state = 42)\n",
        "\n",
        "# Eval Metrics\n",
        "def eval_metrics(actual, pred):\n",
        "    rmse = np.sqrt(mean_squared_error(actual, pred))\n",
        "    mae = mean_absolute_error(actual, pred)\n",
        "    mape = mean_absolute_percentage_error(actual, pred)\n",
        "    r2 = r2_score(actual, pred)\n",
        "    return rmse, mae, mape, r2\n",
        "\n",
        "# modeling\n",
        "\n",
        "with mlflow.start_run():\n",
        "        lr = LinearRegression()\n",
        "        lr.fit(X_train, y_train)\n",
        "\n",
        "        y_pred = lr.predict(X_test)\n",
        "\n",
        "        (rmse, mae, mape, r2) = eval_metrics(y_test, y_pred)\n",
        "\n",
        "        print(\"  RMSE: %s\" % rmse)\n",
        "        print(\"  MAE: %s\" % mae)\n",
        "        print(\"  MAPE: %s\" % mape)\n",
        "        print(\"  R2: %s\" % r2)\n",
        "\n",
        "\n",
        "        mlflow.log_metric(\"rmse\", rmse)\n",
        "        mlflow.log_metric(\"mae\", mae)\n",
        "        mlflow.log_metric(\"mape\", mape)\n",
        "        mlflow.log_metric(\"r2\", r2)\n",
        "    \n",
        "\n",
        "        tracking_url_type_store = urlparse(mlflow.get_tracking_uri()).scheme\n",
        "\n",
        "        if tracking_url_type_store != \"file\":\n",
        "            mlflow.sklearn.log_model(lr, \"model\", registered_model_name=\"Linear Regression\")\n",
        "        else:\n",
        "            mlflow.sklearn.log_model(lr, \"model\")"
      ],
      "metadata": {
        "id": "ipHVIHASBPw6",
        "colab": {
          "base_uri": "https://localhost:8080/",
          "height": 373
        },
        "outputId": "95587d2e-0709-455a-ef6f-d319677b3da5"
      },
      "execution_count": null,
      "outputs": [
        {
          "output_type": "error",
          "ename": "ModuleNotFoundError",
          "evalue": "ignored",
          "traceback": [
            "\u001b[0;31m---------------------------------------------------------------------------\u001b[0m",
            "\u001b[0;31mModuleNotFoundError\u001b[0m                       Traceback (most recent call last)",
            "\u001b[0;32m<ipython-input-24-9eef22f22587>\u001b[0m in \u001b[0;36m<module>\u001b[0;34m\u001b[0m\n\u001b[1;32m     17\u001b[0m \u001b[0;32mfrom\u001b[0m \u001b[0murllib\u001b[0m\u001b[0;34m.\u001b[0m\u001b[0mparse\u001b[0m \u001b[0;32mimport\u001b[0m \u001b[0murlparse\u001b[0m\u001b[0;34m\u001b[0m\u001b[0;34m\u001b[0m\u001b[0m\n\u001b[1;32m     18\u001b[0m \u001b[0;34m\u001b[0m\u001b[0m\n\u001b[0;32m---> 19\u001b[0;31m \u001b[0;32mimport\u001b[0m \u001b[0mmlflow\u001b[0m\u001b[0;34m\u001b[0m\u001b[0;34m\u001b[0m\u001b[0m\n\u001b[0m\u001b[1;32m     20\u001b[0m \u001b[0;32mimport\u001b[0m \u001b[0mmlflow\u001b[0m\u001b[0;34m.\u001b[0m\u001b[0msklearn\u001b[0m\u001b[0;34m\u001b[0m\u001b[0;34m\u001b[0m\u001b[0m\n\u001b[1;32m     21\u001b[0m \u001b[0;34m\u001b[0m\u001b[0m\n",
            "\u001b[0;31mModuleNotFoundError\u001b[0m: No module named 'mlflow'",
            "",
            "\u001b[0;31m---------------------------------------------------------------------------\u001b[0;32m\nNOTE: If your import is failing due to a missing package, you can\nmanually install dependencies using either !pip or !apt.\n\nTo view examples of installing some common dependencies, click the\n\"Open Examples\" button below.\n\u001b[0;31m---------------------------------------------------------------------------\u001b[0m\n"
          ],
          "errorDetails": {
            "actions": [
              {
                "action": "open_url",
                "actionText": "Open Examples",
                "url": "/notebooks/snippets/importing_libraries.ipynb"
              }
            ]
          }
        }
      ]
    },
    {
      "cell_type": "markdown",
      "source": [
        "Based on the model deployment above, the same model evaluation value is generated as the previously obtained evaluation results. If we use visual studio to create the model deployment, it can be displayed mlflow ui "
      ],
      "metadata": {
        "id": "7u47IRd74fl2"
      }
    },
    {
      "cell_type": "markdown",
      "source": [
        "# Result\n",
        "- Based on the scatterplot, the relationship between TV advertising and sales is directly proportional. The more advertising on TV, the sales are also increasing.\n",
        "- Based on the heatmap graph, it can be seen that there is a strong relationship between TV advertising and sales.\n",
        "- The correlation value on the heatmap obtained is 0.78 where the figure is above 0.5.\n",
        "- Based on the evaluation of the model using MAE, a fairly small value is obtained, it is 2,381. This means that the model formed is good for predictions.\n",
        "- Based on the evaluation of the model using MAPE, a value of 0.18 or 18% is obtained, where this figure is below 20%. This means that the model formed has good forecasting results.\n",
        "- Based on the evaluation of the model using R-Square, a value of 0.65 or 65% is obtained. This means that TV advertising has an effect of 65% on sales while the remaining 35% is influenced by other unknown factors.\n",
        "- Based on the evaluation of the model using the RMSE, a fairly small value is obtained, namely 3.06. This means that the model is good enough to make predictions."
      ],
      "metadata": {
        "id": "CTW4OHMTubwc"
      }
    },
    {
      "cell_type": "markdown",
      "source": [
        "# Recommendation\n",
        "- In research other predictor variables can be added so that it is possible to get a better model.\n",
        "- Companies must optimize the costs spent on advertising through TV because there are some sales are not necessarily high when the money spent on advertising is high.\n",
        "- The company can increase sales by advertising products through social media, news, etc"
      ],
      "metadata": {
        "id": "lja2py3Rvfl5"
      }
    },
    {
      "cell_type": "markdown",
      "source": [
        "# Deployment\n",
        "\n",
        "Deployment is a step to integrate of the model into an existing production environment which can take in an input and return an output that can be used in making practical business decisions. To deploy model we use the MLflow library.\n",
        "\n",
        "MLflow is a platform to streamline machine learning development, including tracking experiments, packaging code into reproducible runs, and sharing and deploying models.\n",
        "\n",
        "MLflow’s current components are:\n",
        "\n",
        "- MLflow Tracking: An API to log parameters, code, and results in machine learning experiments and compare them using an interactive UI.\n",
        "\n",
        "- MLflow Projects: A code packaging format for reproducible runs using Conda and Docker, so you can share your ML code with others.\n",
        "\n",
        "- MLflow Models: A model packaging format and tools that let you easily deploy the same model (from any ML library) to batch and real-time scoring on platforms such as Docker, Apache Spark, Azure ML and AWS SageMaker.\n",
        "\n",
        "- MLflow Model Registry: A centralized model store, set of APIs, and UI, to collaboratively manage the full lifecycle of MLflow Models.\n",
        "\n",
        "## Result of Model Deployment\n",
        "Based on the model deployment, we can track model evaluations based on RMSE, MAE, MAPE, and R-Square in mlflow UI"
      ],
      "metadata": {
        "id": "ueM50U9a91rC"
      }
    }
  ]
}